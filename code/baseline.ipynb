{
 "cells": [
  {
   "cell_type": "code",
   "execution_count": 15,
   "metadata": {},
   "outputs": [
    {
     "name": "stdout",
     "output_type": "stream",
     "text": [
      "XGB version: 2.0.0\n",
      "LGB version: 4.1.0\n"
     ]
    }
   ],
   "source": [
    "from sklearn.metrics import accuracy_score\n",
    "from sklearn.metrics import roc_auc_score\n",
    "from sklearn.metrics import roc_curve\n",
    "from sklearn.model_selection import StratifiedKFold\n",
    "\n",
    "import xgboost as xgb\n",
    "print('XGB version:', xgb.__version__)\n",
    "\n",
    "import lightgbm as lgb\n",
    "from lightgbm import early_stopping\n",
    "from lightgbm import log_evaluation\n",
    "print('LGB version:', lgb.__version__)\n",
    "\n",
    "from tqdm import tqdm\n",
    "\n",
    "import shap\n",
    "import pandas as pd\n",
    "import numpy as np\n",
    "\n",
    "import matplotlib.pyplot as plt\n",
    "import seaborn as sns\n",
    "\n",
    "from pathlib import Path  #for Windows/Linux compatibility"
   ]
  },
  {
   "cell_type": "code",
   "execution_count": 16,
   "metadata": {},
   "outputs": [],
   "source": [
    "df = pd.read_csv(\"transformed.csv\")"
   ]
  },
  {
   "cell_type": "code",
   "execution_count": 17,
   "metadata": {},
   "outputs": [
    {
     "data": {
      "text/plain": [
       "Index(['Team_home', 'GAME_DATE_EST', 'HOME_TEAM_WINS', 'PTS_home', 'FGM_home',\n",
       "       'FGA_home', 'FG_PCT_home', '3PM_home', '3PA_home', 'FG3_PCT_home',\n",
       "       'FTM_home', 'FTA_home', 'FT_PCT_home', 'OREB_home', 'DREB_home',\n",
       "       'REB_home', 'AST_home', 'STL_home', 'BLK_home', 'TOV_home', 'PF_home',\n",
       "       '+/-_home', 'HOME_TEAM_ID', 'GAME_ID', 'Team_away', 'PTS_away',\n",
       "       'FGM_away', 'FGA_away', 'FG_PCT_away', '3PM_away', '3PA_away',\n",
       "       'FG3_PCT_away', 'FTM_away', 'FTA_away', 'FT_PCT_away', 'OREB_away',\n",
       "       'DREB_away', 'REB_away', 'AST_away', 'STL_away', 'BLK_away', 'TOV_away',\n",
       "       'PF_away', '+/-_away', 'VISITOR_TEAM_ID', 'SEASON', 'PLAYOFF',\n",
       "       'TARGET'],\n",
       "      dtype='object')"
      ]
     },
     "execution_count": 17,
     "metadata": {},
     "output_type": "execute_result"
    }
   ],
   "source": [
    "df.columns"
   ]
  },
  {
   "cell_type": "code",
   "execution_count": 18,
   "metadata": {},
   "outputs": [],
   "source": [
    "latest_season = df['SEASON'].unique().max()\n",
    "\n",
    "train = df[df['SEASON'] < (latest_season)]\n",
    "test = df[df['SEASON'] >= (latest_season - 1)]\n",
    "\n",
    "train.to_csv(\"train.csv\",index=False)\n",
    "test.to_csv(\"test.csv\",index=False)"
   ]
  },
  {
   "cell_type": "code",
   "execution_count": 19,
   "metadata": {},
   "outputs": [],
   "source": [
    "train = pd.read_csv(\"train.csv\")\n",
    "test = pd.read_csv(\"test.csv\")"
   ]
  },
  {
   "cell_type": "code",
   "execution_count": 20,
   "metadata": {},
   "outputs": [
    {
     "data": {
      "text/plain": [
       "(0.5905921980260066, 0.5)"
      ]
     },
     "execution_count": 20,
     "metadata": {},
     "output_type": "execute_result"
    }
   ],
   "source": [
    "predict = predict = np.ones((train.shape[0],))\n",
    "true =  train['TARGET']\n",
    "\n",
    "accuracy_score(true,predict), roc_auc_score(true,predict)"
   ]
  },
  {
   "cell_type": "code",
   "execution_count": 21,
   "metadata": {},
   "outputs": [
    {
     "data": {
      "text/plain": [
       "(0.5799457994579946, 0.5)"
      ]
     },
     "execution_count": 21,
     "metadata": {},
     "output_type": "execute_result"
    }
   ],
   "source": [
    "predict = predict = np.ones((test.shape[0],))\n",
    "true =  test['TARGET']\n",
    "\n",
    "accuracy_score(true,predict), roc_auc_score(true,predict)"
   ]
  },
  {
   "cell_type": "code",
   "execution_count": 22,
   "metadata": {},
   "outputs": [],
   "source": [
    "def fix_datatypes(df):\n",
    "    df['GAME_DATE_EST'] = df['GAME_DATE_EST'].apply(lambda x: x[:10])\n",
    "    df['GAME_DATE_EST'] = pd.to_datetime(df['GAME_DATE_EST'])\n",
    "\n",
    "    long_integer_fields = ['GAME_ID', 'HOME_TEAM_ID', 'VISITOR_TEAM_ID', 'SEASON']\n",
    "\n",
    "    #convert long integer fields to int32 from int64\n",
    "    for field in long_integer_fields:\n",
    "        df[field] = df[field].astype('int32')\n",
    "    \n",
    "    #convert the remaining int64s to int8\n",
    "    for field in df.select_dtypes(include=['int64']).columns.tolist():\n",
    "        df[field] = df[field].astype('int8')\n",
    "        \n",
    "    #convert float64s to float16s\n",
    "    for field in df.select_dtypes(include=['float64']).columns.tolist():\n",
    "        df[field] = df[field].astype('float16')\n",
    "        \n",
    "    return df\n",
    "\n",
    "train = fix_datatypes(train)\n",
    "test = fix_datatypes(test)"
   ]
  },
  {
   "cell_type": "code",
   "execution_count": 23,
   "metadata": {},
   "outputs": [],
   "source": [
    "def add_rolling_means(df, location):\n",
    "    \n",
    "    location_id = location + \"_TEAM_ID\"\n",
    "\n",
    "    # sort games by the order in which they were played for each home or visitor team\n",
    "    df = df.sort_values(by = [location_id, 'GAME_DATE_EST'], axis=0, ascending=[True, True,], ignore_index=True)\n",
    "    \n",
    "    # rolling means\n",
    "    feature_list = ['HOME_TEAM_WINS','PTS_home',\n",
    "       'FGM_home', 'FGA_home', 'FG_PCT_home', '3PM_home', '3PA_home',\n",
    "       'FG3_PCT_home', 'FTM_home', 'FTA_home', 'FT_PCT_home', 'OREB_home',\n",
    "       'DREB_home', 'REB_home', 'AST_home', 'STL_home', 'BLK_home', 'TOV_home',\n",
    "       'PF_home', '+/-_home']\n",
    "    \n",
    "    if location == 'VISITOR':\n",
    "        feature_list = ['HOME_TEAM_WINS', 'PTS_away',\n",
    "            'FGM_away', 'FGA_away', 'FG_PCT_away', '3PM_away', '3PA_away',\n",
    "            'FG3_PCT_away', 'FTM_away', 'FTA_away', 'FT_PCT_away', 'OREB_away',\n",
    "            'DREB_away', 'REB_away', 'AST_away', 'STL_away', 'BLK_away', 'TOV_away',\n",
    "            'PF_away', '+/-_away']\n",
    "\n",
    "    roll_feature_list = []\n",
    "    for feature in feature_list:\n",
    "        roll_feature_name = location + '_' + feature + '_AVG_LAST_' + '5_' + location\n",
    "        if feature == 'HOME_TEAM_WINS': #remove the \"HOME_\" for better readability\n",
    "            roll_feature_name = location + '_' + feature[5:] + '_AVG_LAST_' + '5_' + location\n",
    "        roll_feature_list.append(roll_feature_name)\n",
    "        df[roll_feature_name] = df.groupby(['HOME_TEAM_ID'])[feature].rolling(5, closed= \"left\").mean().values\n",
    "\n",
    "    return df\n",
    "\n",
    "train = add_rolling_means(train, 'HOME')\n",
    "train = add_rolling_means(train, 'VISITOR')\n",
    "test = add_rolling_means(test, 'HOME')\n",
    "test = add_rolling_means(test, 'VISITOR')"
   ]
  },
  {
   "cell_type": "code",
   "execution_count": 24,
   "metadata": {},
   "outputs": [],
   "source": [
    "target = train['TARGET']\n",
    "test_target = test['TARGET']\n",
    "\n",
    "category_columns = ['HOME_TEAM_ID', 'VISITOR_TEAM_ID', 'SEASON', 'HOME_TEAM_WINS', 'PLAYOFF', 'CONFERENCE_x', 'CONFERENCE_y',]\n",
    "\n",
    "all_columns = train.columns.tolist()\n",
    "drop_columns = ['TARGET', 'GAME_DATE_EST', 'GAME_ID',] #not really useful as-is\n",
    "\n",
    "# non-rolling features, which would be data leakage\n",
    "drop_columns1 = ['HOME_TEAM_WINS', \n",
    "       'PTS_home', 'FGM_home', 'FGA_home', 'FG_PCT_home', \n",
    "       '3PM_home', '3PA_home', 'FG3_PCT_home', 'FTM_home', 'FTA_home', \n",
    "       'FT_PCT_home', 'OREB_home', 'DREB_home', 'REB_home', 'AST_home', \n",
    "       'STL_home', 'BLK_home', 'TOV_home', 'PF_home', '+/-_home', 'Team_home']\n",
    "drop_columns2 = [\n",
    "       'PTS_away', 'FGM_away', 'FGA_away', 'FG_PCT_away',\n",
    "       '3PM_away', '3PA_away', 'FG3_PCT_away', 'FTM_away', 'FTA_away',\n",
    "       'FT_PCT_away', 'OREB_away', 'DREB_away', 'REB_away', 'AST_away',\n",
    "       'STL_away', 'BLK_away', 'TOV_away', 'PF_away', '+/-_away', 'Team_away']\n",
    "\n",
    "drop_columns = drop_columns + drop_columns1\n",
    "drop_columns = drop_columns + drop_columns2 \n",
    "\n",
    "use_columns = [item for item in all_columns if item not in drop_columns]\n",
    "\n",
    "train = train[use_columns]\n",
    "test = test[use_columns]"
   ]
  },
  {
   "cell_type": "code",
   "execution_count": 25,
   "metadata": {},
   "outputs": [],
   "source": [
    "K_FOLDS = 5\n",
    "SEED = 13"
   ]
  },
  {
   "cell_type": "code",
   "execution_count": 26,
   "metadata": {},
   "outputs": [],
   "source": [
    "GPU = True"
   ]
  },
  {
   "cell_type": "markdown",
   "metadata": {},
   "source": [
    "LightGBM"
   ]
  },
  {
   "cell_type": "code",
   "execution_count": 27,
   "metadata": {},
   "outputs": [
    {
     "name": "stderr",
     "output_type": "stream",
     "text": [
      "0it [00:00, ?it/s]"
     ]
    },
    {
     "name": "stdout",
     "output_type": "stream",
     "text": [
      "[100]\tvalid_0's auc: 0.641206\n",
      "[200]\tvalid_0's auc: 0.632416\n"
     ]
    },
    {
     "name": "stderr",
     "output_type": "stream",
     "text": [
      "1it [00:03,  3.03s/it]"
     ]
    },
    {
     "name": "stdout",
     "output_type": "stream",
     "text": [
      "0.6211082827491679 0.6434009846417703\n",
      "[100]\tvalid_0's auc: 0.625669\n",
      "[200]\tvalid_0's auc: 0.617949\n"
     ]
    },
    {
     "name": "stderr",
     "output_type": "stream",
     "text": [
      "2it [00:06,  3.26s/it]"
     ]
    },
    {
     "name": "stdout",
     "output_type": "stream",
     "text": [
      "0.6048560798903466 0.6322576420100291\n",
      "[100]\tvalid_0's auc: 0.626797\n",
      "[200]\tvalid_0's auc: 0.62522\n"
     ]
    },
    {
     "name": "stderr",
     "output_type": "stream",
     "text": [
      "3it [00:09,  3.19s/it]"
     ]
    },
    {
     "name": "stdout",
     "output_type": "stream",
     "text": [
      "0.581081081081081 0.6302377749292449\n",
      "[100]\tvalid_0's auc: 0.62178\n",
      "[200]\tvalid_0's auc: 0.613847\n"
     ]
    },
    {
     "name": "stderr",
     "output_type": "stream",
     "text": [
      "4it [00:12,  3.07s/it]"
     ]
    },
    {
     "name": "stdout",
     "output_type": "stream",
     "text": [
      "0.5740305522914219 0.6268786567334661\n",
      "[100]\tvalid_0's auc: 0.638904\n",
      "[200]\tvalid_0's auc: 0.635611\n"
     ]
    },
    {
     "name": "stderr",
     "output_type": "stream",
     "text": [
      "5it [00:15,  3.06s/it]"
     ]
    },
    {
     "name": "stdout",
     "output_type": "stream",
     "text": [
      "0.6055620838229534 0.6452177182000091\n",
      "\n",
      "Composite Train OOF CV Scores:\n",
      "\n",
      "Accuracy Score: 0.5943521854927151\n",
      "AUC Score: 0.6353467706007583\n",
      "Optimal Threshold: 0.6018298719710422\n",
      "\n",
      "Test data Scores:\n",
      "\n",
      "Accuracy Score: 0.5989159891598916\n",
      "AUC Score: 0.6626578233343383\n",
      "CPU times: total: 1min 43s\n",
      "Wall time: 15.3 s\n"
     ]
    },
    {
     "name": "stderr",
     "output_type": "stream",
     "text": [
      "\n"
     ]
    }
   ],
   "source": [
    "%%time\n",
    "\n",
    "NUM_BOOST_ROUND = 700\n",
    "EARLY_STOPPING = 200\n",
    "LOG_EVALUATION = 100\n",
    "\n",
    "train_oof = np.zeros((train.shape[0],))\n",
    "test_preds = 0\n",
    "train_oof_shap = np.zeros((train.shape[0],train.shape[1]+1))\n",
    "#train_oof_shap_interact = np.zeros((train.shape[0],train.shape[1]+1,train.shape[1]+1))\n",
    "test_preds_shap = 0\n",
    "\n",
    "lgb_params= {\n",
    "            'seed': SEED,\n",
    "            'verbose': 0,           \n",
    "            'boosting_type': 'gbdt',\n",
    "            'objective': 'binary',\n",
    "            'metric': 'auc', \n",
    "            #'num_leaves': 31,\n",
    "            #'learning_rate': 0.05,\n",
    "            #'feature_fraction': 0.9,\n",
    "            #'bagging_fraction': 0.8,\n",
    "            #'bagging_freq': 5,\n",
    "\n",
    "            }\n",
    "\n",
    "gpu_params= {\n",
    "            'device': 'gpu',\n",
    "            'gpu_platform_id': 0,\n",
    "            'gpu_device_id': 0,\n",
    "             }\n",
    "\n",
    "if GPU:\n",
    "    lgb_params = lgb_params | gpu_params\n",
    "    \n",
    "\n",
    "# K-fold cross validation\n",
    "\n",
    "kf = StratifiedKFold(n_splits=K_FOLDS, shuffle=True, random_state=SEED)\n",
    "\n",
    "for f, (train_ind, val_ind) in tqdm(enumerate(kf.split(train, target))):\n",
    "    \n",
    "    train_df, val_df = train.iloc[train_ind], train.iloc[val_ind]\n",
    "    train_target, val_target = target[train_ind], target[val_ind]\n",
    "\n",
    "    train_lgbdataset = lgb.Dataset(train_df, label=train_target,)\n",
    "    val_lgbdataset = lgb.Dataset(val_df, label=val_target, reference = train_lgbdataset )\n",
    "\n",
    "    model =  lgb.train(lgb_params, \n",
    "                       train_lgbdataset,\n",
    "                       valid_sets=val_lgbdataset,\n",
    "                       num_boost_round = NUM_BOOST_ROUND,\n",
    "                       callbacks=[log_evaluation(LOG_EVALUATION),early_stopping(EARLY_STOPPING,verbose=False)],\n",
    "                       #verbose_eval= VERBOSE_EVAL,\n",
    "                      )\n",
    "\n",
    "    temp_oof = model.predict(val_df)\n",
    "    temp_oof_shap = model.predict(val_df, pred_contrib=True)\n",
    "    \n",
    "    temp_test = model.predict(test)\n",
    "    temp_test_shap = model.predict(test, pred_contrib=True)\n",
    "\n",
    "    train_oof[val_ind] = temp_oof\n",
    "    test_preds += temp_test/K_FOLDS\n",
    "\n",
    "    train_oof_shap[val_ind, :] = temp_oof_shap\n",
    "    test_preds_shap += temp_test_shap/K_FOLDS\n",
    "    \n",
    "\n",
    "    #for accuracy score, prediction probabilities must be convert to binary scores (Win or Lose)\n",
    "    #determine optimum threshold for conveting probablities using ROC curve\n",
    "    #generally 0.5 works for balanced data\n",
    "    #fpr = false positive rate, tpr = true postive rate\n",
    "    fpr, tpr, thresholds = roc_curve(val_target,temp_oof)\n",
    "    optimal_idx = np.argmax(tpr - fpr)\n",
    "    optimal_threshold = thresholds[optimal_idx]\n",
    "    temp_oof_binary = (temp_oof > optimal_threshold).astype(int)\n",
    "\n",
    "    print(accuracy_score(val_target, temp_oof_binary), roc_auc_score(val_target, temp_oof))\n",
    "    \n",
    "\n",
    "    \n",
    "# Out-of-Fold composite for train data\n",
    "\n",
    "fpr, tpr, thresholds = roc_curve(target,train_oof)\n",
    "optimal_idx = np.argmax(tpr - fpr)\n",
    "optimal_threshold = thresholds[optimal_idx]\n",
    "train_oof_binary = (train_oof > optimal_threshold).astype(int)\n",
    "\n",
    "print()\n",
    "print(\"Composite Train OOF CV Scores:\")\n",
    "print()\n",
    "print(\"Accuracy Score:\",accuracy_score(target, train_oof_binary))\n",
    "print(\"AUC Score:\", roc_auc_score(target, train_oof))\n",
    "print(\"Optimal Threshold:\", optimal_threshold)\n",
    "\n",
    "#scores for Test data\n",
    "\n",
    "test_preds_binary = (test_preds > optimal_threshold).astype(int)\n",
    "print()\n",
    "print(\"Test data Scores:\")\n",
    "print()\n",
    "print(\"Accuracy Score:\",accuracy_score(test_target, test_preds_binary))\n",
    "print(\"AUC Score:\", roc_auc_score(test_target, test_preds))\n"
   ]
  },
  {
   "cell_type": "markdown",
   "metadata": {},
   "source": [
    "XGBoost"
   ]
  },
  {
   "cell_type": "code",
   "execution_count": 28,
   "metadata": {},
   "outputs": [
    {
     "name": "stderr",
     "output_type": "stream",
     "text": [
      "1it [00:09,  9.29s/it]"
     ]
    },
    {
     "name": "stdout",
     "output_type": "stream",
     "text": [
      "0.542001174858038 0.5562487869573656\n"
     ]
    },
    {
     "name": "stderr",
     "output_type": "stream",
     "text": [
      "2it [00:18,  9.20s/it]"
     ]
    },
    {
     "name": "stdout",
     "output_type": "stream",
     "text": [
      "0.5553162326218916 0.5608179934974572\n"
     ]
    },
    {
     "name": "stderr",
     "output_type": "stream",
     "text": [
      "3it [00:27,  9.11s/it]"
     ]
    },
    {
     "name": "stdout",
     "output_type": "stream",
     "text": [
      "0.5697218958088524 0.5486531163935883\n"
     ]
    },
    {
     "name": "stderr",
     "output_type": "stream",
     "text": [
      "4it [00:36,  9.17s/it]"
     ]
    },
    {
     "name": "stdout",
     "output_type": "stream",
     "text": [
      "0.5487661574618097 0.547304011777696\n"
     ]
    },
    {
     "name": "stderr",
     "output_type": "stream",
     "text": [
      "5it [00:45,  9.18s/it]"
     ]
    },
    {
     "name": "stdout",
     "output_type": "stream",
     "text": [
      "0.5626713670191931 0.562223792562772\n",
      "\n",
      "Composite Train OOF CV Scores:\n",
      "\n",
      "Accuracy Score: 0.5497023343255523\n",
      "AUC Score: 0.5550406654168019\n",
      "Optimal Threshold: 0.56333327293396\n",
      "\n",
      "Test data Scores:\n",
      "\n",
      "Accuracy Score: 0.6086720867208673\n",
      "AUC Score: 0.691350015073862\n",
      "CPU times: total: 41.3 s\n",
      "Wall time: 46 s\n"
     ]
    },
    {
     "name": "stderr",
     "output_type": "stream",
     "text": [
      "\n"
     ]
    }
   ],
   "source": [
    "%%time\n",
    "\n",
    "NUM_BOOST_ROUND = 700\n",
    "\n",
    "train_oof = np.zeros((train.shape[0],))\n",
    "test_preds = 0\n",
    "train_oof_shap = np.zeros((train.shape[0],train.shape[1]+1))\n",
    "train_oof_shap_interact = np.zeros((train.shape[0],train.shape[1]+1,train.shape[1]+1))\n",
    "test_preds_shap = 0\n",
    "\n",
    "xgb_params= {\n",
    "            'seed': SEED,\n",
    "            'eval_metric': 'auc',\n",
    "            }\n",
    "\n",
    "gpu_params= {\n",
    "             'tree_method': 'hist',\n",
    "             'device': 'gpu'\n",
    "             }\n",
    "\n",
    "if GPU:\n",
    "    xgb_params = xgb_params | gpu_params\n",
    "    \n",
    "\n",
    "# K-fold cross validation\n",
    "\n",
    "test_dmatrix = xgb.DMatrix(test)\n",
    "\n",
    "kf = StratifiedKFold(n_splits=K_FOLDS, shuffle=True, random_state=SEED)\n",
    "\n",
    "for f, (train_ind, val_ind) in tqdm(enumerate(kf.split(train, target))):\n",
    "    \n",
    "    train_df, val_df = train.iloc[train_ind], train.iloc[val_ind]\n",
    "    train_target, val_target = target[train_ind], target[val_ind]\n",
    "\n",
    "    train_dmatrix = xgb.DMatrix(train_df, label=train_target)\n",
    "    val_dmatrix = xgb.DMatrix(val_df, label=val_target)\n",
    "\n",
    "    model =  xgb.train(xgb_params, \n",
    "                       train_dmatrix, \n",
    "                       num_boost_round = NUM_BOOST_ROUND,\n",
    "                      )\n",
    "\n",
    "    temp_oof = model.predict(val_dmatrix)\n",
    "    temp_oof_shap = model.predict(val_dmatrix, pred_contribs=True)\n",
    "    temp_oof_shap_interact = model.predict(val_dmatrix, pred_interactions=True)\n",
    "    \n",
    "    temp_test = model.predict(test_dmatrix)\n",
    "    temp_test_shap = model.predict(test_dmatrix, pred_contribs=True)\n",
    "\n",
    "    train_oof[val_ind] = temp_oof\n",
    "    test_preds += temp_test/K_FOLDS\n",
    "\n",
    "    train_oof_shap[val_ind, :] = temp_oof_shap\n",
    "    train_oof_shap_interact[val_ind, :,:] = temp_oof_shap_interact\n",
    "    test_preds_shap += temp_test_shap/K_FOLDS\n",
    "    \n",
    "    #for accuracy score, prediction probabilities must be convert to binary scores (Win or Lose)\n",
    "    #determine optimum threshold for conveting probablities using ROC curve\n",
    "    #generally 0.5 works for balanced data\n",
    "    #fpr = false positive rate, tpr = true postive rate\n",
    "    fpr, tpr, thresholds = roc_curve(val_target,temp_oof)\n",
    "    optimal_idx = np.argmax(tpr - fpr)\n",
    "    optimal_threshold = thresholds[optimal_idx]\n",
    "    temp_oof_binary = (temp_oof > optimal_threshold).astype(int)\n",
    "\n",
    "    print(accuracy_score(val_target, temp_oof_binary), roc_auc_score(val_target, temp_oof))\n",
    "    \n",
    "\n",
    "    \n",
    "# Out-of-Fold composite for train data\n",
    "\n",
    "fpr, tpr, thresholds = roc_curve(target,train_oof)\n",
    "optimal_idx = np.argmax(tpr - fpr)\n",
    "optimal_threshold = thresholds[optimal_idx]\n",
    "train_oof_binary = (train_oof > optimal_threshold).astype(int)\n",
    "\n",
    "print()\n",
    "print(\"Composite Train OOF CV Scores:\")\n",
    "print()\n",
    "print(\"Accuracy Score:\",accuracy_score(target, train_oof_binary))\n",
    "print(\"AUC Score:\", roc_auc_score(target, train_oof))\n",
    "print(\"Optimal Threshold:\", optimal_threshold)\n",
    "\n",
    "#scores for Test data\n",
    "\n",
    "test_preds_binary = (test_preds > optimal_threshold).astype(int)\n",
    "print()\n",
    "print(\"Test data Scores:\")\n",
    "print()\n",
    "print(\"Accuracy Score:\",accuracy_score(test_target, test_preds_binary))\n",
    "print(\"AUC Score:\", roc_auc_score(test_target, test_preds))\n",
    "\n"
   ]
  }
 ],
 "metadata": {
  "kernelspec": {
   "display_name": "base",
   "language": "python",
   "name": "python3"
  },
  "language_info": {
   "codemirror_mode": {
    "name": "ipython",
    "version": 3
   },
   "file_extension": ".py",
   "mimetype": "text/x-python",
   "name": "python",
   "nbconvert_exporter": "python",
   "pygments_lexer": "ipython3",
   "version": "3.11.4"
  }
 },
 "nbformat": 4,
 "nbformat_minor": 2
}
